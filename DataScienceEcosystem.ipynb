{
 "cells": [
  {
   "cell_type": "markdown",
   "id": "41e97806-99c0-411a-937c-3d383518671d",
   "metadata": {},
   "source": [
    "Data Science Tools and Ecosystem"
   ]
  },
  {
   "cell_type": "markdown",
   "id": "afafd1a2-5bb3-4c18-9190-13271a87db34",
   "metadata": {},
   "source": [
    "In this notebook, Data Science Tools and Ecosystem are summarized."
   ]
  },
  {
   "cell_type": "markdown",
   "id": "7f17bbca-804f-4efc-a270-cdd8534ce77b",
   "metadata": {},
   "source": [
    "Some of the popular languages that Data Scientists use are:"
   ]
  },
  {
   "cell_type": "code",
   "execution_count": 1,
   "id": "5bf73d71-e296-4553-930c-26c1e6cb45c4",
   "metadata": {},
   "outputs": [],
   "source": [
    "lang_list = ['python','R','sql']"
   ]
  },
  {
   "cell_type": "markdown",
   "id": "5324667a-2139-4b73-9fa3-67f90886c812",
   "metadata": {},
   "source": [
    "Some of the commonly used libraries used by Data Scientists include:"
   ]
  },
  {
   "cell_type": "code",
   "execution_count": 2,
   "id": "e81457fc-00e8-42b4-9d6d-7145178b37fe",
   "metadata": {},
   "outputs": [],
   "source": [
    "lib_list = ['pandas','numpy','seaborn']"
   ]
  },
  {
   "cell_type": "markdown",
   "id": "d57372d9-5674-461d-8789-528f8dd6f6ba",
   "metadata": {},
   "source": [
    "Data Science Tools"
   ]
  },
  {
   "cell_type": "markdown",
   "id": "bd9b04fd-3c57-4171-bd6c-57e1a84b51b8",
   "metadata": {},
   "source": [
    "Jupyter Notebook"
   ]
  },
  {
   "cell_type": "markdown",
   "id": "0e2d4e26-9a7c-4feb-8dd7-2725ba7beacc",
   "metadata": {},
   "source": [
    "RStudio"
   ]
  },
  {
   "cell_type": "markdown",
   "id": "e5c6c5e0-45c7-4b40-ac11-b7ab15d5da43",
   "metadata": {},
   "source": [
    "Apache Zeppelin"
   ]
  },
  {
   "cell_type": "markdown",
   "id": "f75e8712-5af2-4ed0-95e3-252a9520ff7e",
   "metadata": {},
   "source": [
    "Below are a few examples of evaluating arithmetic expressions in Python"
   ]
  },
  {
   "cell_type": "code",
   "execution_count": null,
   "id": "1072ce10-a244-4264-8148-5800781c3855",
   "metadata": {},
   "outputs": [],
   "source": [
    "# This is a simple arithmetic expression to multiply then add integers\n",
    "(3 * 4) + 5"
   ]
  },
  {
   "cell_type": "code",
   "execution_count": null,
   "id": "4bffb014-7120-43a2-8e84-473e54cd455c",
   "metadata": {},
   "outputs": [],
   "source": [
    "# This will convert 200 minutes to hours by dividing by 60\n",
    "200 / 60"
   ]
  },
  {
   "cell_type": "markdown",
   "id": "84ddaf03-f212-437c-bfaf-4f8f4f5aeae1",
   "metadata": {},
   "source": [
    "Objectives:\n",
    "- Learn popular languages for Data Science\n",
    "- Learn Data Science in Python\n",
    "- Understand data science tools\n",
    "- Perform basic mathematical operations"
   ]
  },
  {
   "cell_type": "markdown",
   "id": "316b6ae2-405d-4733-b0b4-857659a5af86",
   "metadata": {},
   "source": [
    "Author  \n",
    "Ajey Dhayashanker Loganathan"
   ]
  }
 ],
 "metadata": {
  "kernelspec": {
   "display_name": "Python 3 (ipykernel)",
   "language": "python",
   "name": "python3"
  },
  "language_info": {
   "codemirror_mode": {
    "name": "ipython",
    "version": 3
   },
   "file_extension": ".py",
   "mimetype": "text/x-python",
   "name": "python",
   "nbconvert_exporter": "python",
   "pygments_lexer": "ipython3",
   "version": "3.12.8"
  }
 },
 "nbformat": 4,
 "nbformat_minor": 5
}
